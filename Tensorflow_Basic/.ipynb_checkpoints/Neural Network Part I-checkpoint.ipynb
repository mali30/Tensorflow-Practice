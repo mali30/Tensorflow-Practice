{
 "cells": [
  {
   "cell_type": "code",
   "execution_count": 3,
   "metadata": {},
   "outputs": [],
   "source": [
    "import numpy as np\n",
    "import tensorflow as tf\n",
    "\n",
    "np.random.seed(101)\n",
    "tf.set_random_seed(101)"
   ]
  },
  {
   "cell_type": "code",
   "execution_count": 6,
   "metadata": {},
   "outputs": [],
   "source": [
    "rand_a = np.random.uniform(0,100, (5,5))"
   ]
  },
  {
   "cell_type": "code",
   "execution_count": 24,
   "metadata": {},
   "outputs": [],
   "source": [
    "rand_b = np.random.uniform(0,100, (5,1))"
   ]
  },
  {
   "cell_type": "code",
   "execution_count": 25,
   "metadata": {},
   "outputs": [
    {
     "data": {
      "text/plain": [
       "array([[97.5361127 ],\n",
       "       [20.35276206],\n",
       "       [29.90204097],\n",
       "       [22.76558928],\n",
       "       [ 4.81688854]])"
      ]
     },
     "execution_count": 25,
     "metadata": {},
     "output_type": "execute_result"
    }
   ],
   "source": [
    "rand_b"
   ]
  },
  {
   "cell_type": "code",
   "execution_count": 26,
   "metadata": {},
   "outputs": [],
   "source": [
    "a = tf.placeholder(tf.int32)"
   ]
  },
  {
   "cell_type": "code",
   "execution_count": 27,
   "metadata": {},
   "outputs": [],
   "source": [
    "b = tf.placeholder(tf.int32)"
   ]
  },
  {
   "cell_type": "code",
   "execution_count": 28,
   "metadata": {},
   "outputs": [],
   "source": [
    "add_op = a + b"
   ]
  },
  {
   "cell_type": "code",
   "execution_count": 29,
   "metadata": {},
   "outputs": [],
   "source": [
    "mul_op = a * b"
   ]
  },
  {
   "cell_type": "code",
   "execution_count": 36,
   "metadata": {},
   "outputs": [
    {
     "name": "stdout",
     "output_type": "stream",
     "text": [
      "the add result is [[165 149 101 119 154]\n",
      " [ 32  70  33  25  37]\n",
      " [ 73 116 123  76  75]\n",
      " [ 85  54  33  27  85]\n",
      " [ 85  71  69  46  69]]\n",
      "the mul result is [[6596 5044  388 2134 5529]\n",
      " [ 240 1000  260  100  340]\n",
      " [1276 2523 2726 1363 1334]\n",
      " [1386  704  242  110 1386]\n",
      " [ 324  268  260  168  260]]\n"
     ]
    }
   ],
   "source": [
    "# matrix addition\n",
    "# feed_dict = key is the placeholder. values are data that are filled by the placeholders\n",
    "with tf.Session() as sess:\n",
    "    add_result = sess.run(add_op , feed_dict = {a:rand_a, b:rand_b})\n",
    "    print(\"the add result is {}\".format(add_result))\n",
    "    \n",
    "    mul_result = sess.run(mul_op, feed_dict = {a:rand_a,b:rand_b})\n",
    "    print(\"the mul result is {}\".format(mul_result))\n",
    "    "
   ]
  },
  {
   "cell_type": "code",
   "execution_count": null,
   "metadata": {},
   "outputs": [],
   "source": []
  },
  {
   "cell_type": "code",
   "execution_count": null,
   "metadata": {},
   "outputs": [],
   "source": []
  }
 ],
 "metadata": {
  "kernelspec": {
   "display_name": "Python 3",
   "language": "python",
   "name": "python3"
  },
  "language_info": {
   "codemirror_mode": {
    "name": "ipython",
    "version": 3
   },
   "file_extension": ".py",
   "mimetype": "text/x-python",
   "name": "python",
   "nbconvert_exporter": "python",
   "pygments_lexer": "ipython3",
   "version": "3.6.8"
  }
 },
 "nbformat": 4,
 "nbformat_minor": 2
}

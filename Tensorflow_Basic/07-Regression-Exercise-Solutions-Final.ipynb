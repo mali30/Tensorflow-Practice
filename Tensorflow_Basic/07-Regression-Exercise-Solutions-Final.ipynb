{
 "cells": [
  {
   "cell_type": "markdown",
   "metadata": {},
   "source": [
    "# Regression Exercise - Solutions\n",
    "\n",
    "California Housing Data\n",
    "\n",
    "This data set contains information about all the block groups in California from the 1990 Census. In this sample a block group on average includes 1425.5 individuals living in a geographically compact area. \n",
    "\n",
    "The task is to aproximate the median house value of each block from the values of the rest of the variables. \n",
    "\n",
    " It has been obtained from the LIACC repository. The original page where the data set can be found is: http://www.liaad.up.pt/~ltorgo/Regression/DataSets.html.\n",
    " "
   ]
  },
  {
   "cell_type": "markdown",
   "metadata": {
    "collapsed": true
   },
   "source": [
    "The Features:\n",
    " \n",
    "* housingMedianAge: continuous. \n",
    "* totalRooms: continuous. \n",
    "* totalBedrooms: continuous. \n",
    "* population: continuous. \n",
    "* households: continuous. \n",
    "* medianIncome: continuous. \n",
    "* medianHouseValue: continuous. "
   ]
  },
  {
   "cell_type": "markdown",
   "metadata": {},
   "source": [
    "## The Data"
   ]
  },
  {
   "cell_type": "markdown",
   "metadata": {},
   "source": [
    "** Import the cal_housing.csv file with pandas. Separate it into a training (70%) and testing set(30%).**"
   ]
  },
  {
   "cell_type": "code",
   "execution_count": 2,
   "metadata": {},
   "outputs": [],
   "source": [
    "import pandas as pd"
   ]
  },
  {
   "cell_type": "code",
   "execution_count": 3,
   "metadata": {},
   "outputs": [],
   "source": [
    "housing = pd.read_csv('cal_housing_clean.csv')"
   ]
  },
  {
   "cell_type": "code",
   "execution_count": 4,
   "metadata": {},
   "outputs": [
    {
     "data": {
      "text/html": [
       "<div>\n",
       "<style scoped>\n",
       "    .dataframe tbody tr th:only-of-type {\n",
       "        vertical-align: middle;\n",
       "    }\n",
       "\n",
       "    .dataframe tbody tr th {\n",
       "        vertical-align: top;\n",
       "    }\n",
       "\n",
       "    .dataframe thead th {\n",
       "        text-align: right;\n",
       "    }\n",
       "</style>\n",
       "<table border=\"1\" class=\"dataframe\">\n",
       "  <thead>\n",
       "    <tr style=\"text-align: right;\">\n",
       "      <th></th>\n",
       "      <th>housingMedianAge</th>\n",
       "      <th>totalRooms</th>\n",
       "      <th>totalBedrooms</th>\n",
       "      <th>population</th>\n",
       "      <th>households</th>\n",
       "      <th>medianIncome</th>\n",
       "      <th>medianHouseValue</th>\n",
       "    </tr>\n",
       "  </thead>\n",
       "  <tbody>\n",
       "    <tr>\n",
       "      <th>0</th>\n",
       "      <td>41.0</td>\n",
       "      <td>880.0</td>\n",
       "      <td>129.0</td>\n",
       "      <td>322.0</td>\n",
       "      <td>126.0</td>\n",
       "      <td>8.3252</td>\n",
       "      <td>452600.0</td>\n",
       "    </tr>\n",
       "    <tr>\n",
       "      <th>1</th>\n",
       "      <td>21.0</td>\n",
       "      <td>7099.0</td>\n",
       "      <td>1106.0</td>\n",
       "      <td>2401.0</td>\n",
       "      <td>1138.0</td>\n",
       "      <td>8.3014</td>\n",
       "      <td>358500.0</td>\n",
       "    </tr>\n",
       "    <tr>\n",
       "      <th>2</th>\n",
       "      <td>52.0</td>\n",
       "      <td>1467.0</td>\n",
       "      <td>190.0</td>\n",
       "      <td>496.0</td>\n",
       "      <td>177.0</td>\n",
       "      <td>7.2574</td>\n",
       "      <td>352100.0</td>\n",
       "    </tr>\n",
       "    <tr>\n",
       "      <th>3</th>\n",
       "      <td>52.0</td>\n",
       "      <td>1274.0</td>\n",
       "      <td>235.0</td>\n",
       "      <td>558.0</td>\n",
       "      <td>219.0</td>\n",
       "      <td>5.6431</td>\n",
       "      <td>341300.0</td>\n",
       "    </tr>\n",
       "    <tr>\n",
       "      <th>4</th>\n",
       "      <td>52.0</td>\n",
       "      <td>1627.0</td>\n",
       "      <td>280.0</td>\n",
       "      <td>565.0</td>\n",
       "      <td>259.0</td>\n",
       "      <td>3.8462</td>\n",
       "      <td>342200.0</td>\n",
       "    </tr>\n",
       "  </tbody>\n",
       "</table>\n",
       "</div>"
      ],
      "text/plain": [
       "   housingMedianAge  totalRooms  totalBedrooms  population  households  \\\n",
       "0              41.0       880.0          129.0       322.0       126.0   \n",
       "1              21.0      7099.0         1106.0      2401.0      1138.0   \n",
       "2              52.0      1467.0          190.0       496.0       177.0   \n",
       "3              52.0      1274.0          235.0       558.0       219.0   \n",
       "4              52.0      1627.0          280.0       565.0       259.0   \n",
       "\n",
       "   medianIncome  medianHouseValue  \n",
       "0        8.3252          452600.0  \n",
       "1        8.3014          358500.0  \n",
       "2        7.2574          352100.0  \n",
       "3        5.6431          341300.0  \n",
       "4        3.8462          342200.0  "
      ]
     },
     "execution_count": 4,
     "metadata": {},
     "output_type": "execute_result"
    }
   ],
   "source": [
    "housing.head()"
   ]
  },
  {
   "cell_type": "code",
   "execution_count": 5,
   "metadata": {},
   "outputs": [
    {
     "data": {
      "text/html": [
       "<div>\n",
       "<style scoped>\n",
       "    .dataframe tbody tr th:only-of-type {\n",
       "        vertical-align: middle;\n",
       "    }\n",
       "\n",
       "    .dataframe tbody tr th {\n",
       "        vertical-align: top;\n",
       "    }\n",
       "\n",
       "    .dataframe thead th {\n",
       "        text-align: right;\n",
       "    }\n",
       "</style>\n",
       "<table border=\"1\" class=\"dataframe\">\n",
       "  <thead>\n",
       "    <tr style=\"text-align: right;\">\n",
       "      <th></th>\n",
       "      <th>count</th>\n",
       "      <th>mean</th>\n",
       "      <th>std</th>\n",
       "      <th>min</th>\n",
       "      <th>25%</th>\n",
       "      <th>50%</th>\n",
       "      <th>75%</th>\n",
       "      <th>max</th>\n",
       "    </tr>\n",
       "  </thead>\n",
       "  <tbody>\n",
       "    <tr>\n",
       "      <th>housingMedianAge</th>\n",
       "      <td>20640.0</td>\n",
       "      <td>28.639486</td>\n",
       "      <td>12.585558</td>\n",
       "      <td>1.0000</td>\n",
       "      <td>18.0000</td>\n",
       "      <td>29.0000</td>\n",
       "      <td>37.00000</td>\n",
       "      <td>52.0000</td>\n",
       "    </tr>\n",
       "    <tr>\n",
       "      <th>totalRooms</th>\n",
       "      <td>20640.0</td>\n",
       "      <td>2635.763081</td>\n",
       "      <td>2181.615252</td>\n",
       "      <td>2.0000</td>\n",
       "      <td>1447.7500</td>\n",
       "      <td>2127.0000</td>\n",
       "      <td>3148.00000</td>\n",
       "      <td>39320.0000</td>\n",
       "    </tr>\n",
       "    <tr>\n",
       "      <th>totalBedrooms</th>\n",
       "      <td>20640.0</td>\n",
       "      <td>537.898014</td>\n",
       "      <td>421.247906</td>\n",
       "      <td>1.0000</td>\n",
       "      <td>295.0000</td>\n",
       "      <td>435.0000</td>\n",
       "      <td>647.00000</td>\n",
       "      <td>6445.0000</td>\n",
       "    </tr>\n",
       "    <tr>\n",
       "      <th>population</th>\n",
       "      <td>20640.0</td>\n",
       "      <td>1425.476744</td>\n",
       "      <td>1132.462122</td>\n",
       "      <td>3.0000</td>\n",
       "      <td>787.0000</td>\n",
       "      <td>1166.0000</td>\n",
       "      <td>1725.00000</td>\n",
       "      <td>35682.0000</td>\n",
       "    </tr>\n",
       "    <tr>\n",
       "      <th>households</th>\n",
       "      <td>20640.0</td>\n",
       "      <td>499.539680</td>\n",
       "      <td>382.329753</td>\n",
       "      <td>1.0000</td>\n",
       "      <td>280.0000</td>\n",
       "      <td>409.0000</td>\n",
       "      <td>605.00000</td>\n",
       "      <td>6082.0000</td>\n",
       "    </tr>\n",
       "    <tr>\n",
       "      <th>medianIncome</th>\n",
       "      <td>20640.0</td>\n",
       "      <td>3.870671</td>\n",
       "      <td>1.899822</td>\n",
       "      <td>0.4999</td>\n",
       "      <td>2.5634</td>\n",
       "      <td>3.5348</td>\n",
       "      <td>4.74325</td>\n",
       "      <td>15.0001</td>\n",
       "    </tr>\n",
       "    <tr>\n",
       "      <th>medianHouseValue</th>\n",
       "      <td>20640.0</td>\n",
       "      <td>206855.816909</td>\n",
       "      <td>115395.615874</td>\n",
       "      <td>14999.0000</td>\n",
       "      <td>119600.0000</td>\n",
       "      <td>179700.0000</td>\n",
       "      <td>264725.00000</td>\n",
       "      <td>500001.0000</td>\n",
       "    </tr>\n",
       "  </tbody>\n",
       "</table>\n",
       "</div>"
      ],
      "text/plain": [
       "                    count           mean            std         min  \\\n",
       "housingMedianAge  20640.0      28.639486      12.585558      1.0000   \n",
       "totalRooms        20640.0    2635.763081    2181.615252      2.0000   \n",
       "totalBedrooms     20640.0     537.898014     421.247906      1.0000   \n",
       "population        20640.0    1425.476744    1132.462122      3.0000   \n",
       "households        20640.0     499.539680     382.329753      1.0000   \n",
       "medianIncome      20640.0       3.870671       1.899822      0.4999   \n",
       "medianHouseValue  20640.0  206855.816909  115395.615874  14999.0000   \n",
       "\n",
       "                          25%          50%           75%          max  \n",
       "housingMedianAge      18.0000      29.0000      37.00000      52.0000  \n",
       "totalRooms          1447.7500    2127.0000    3148.00000   39320.0000  \n",
       "totalBedrooms        295.0000     435.0000     647.00000    6445.0000  \n",
       "population           787.0000    1166.0000    1725.00000   35682.0000  \n",
       "households           280.0000     409.0000     605.00000    6082.0000  \n",
       "medianIncome           2.5634       3.5348       4.74325      15.0001  \n",
       "medianHouseValue  119600.0000  179700.0000  264725.00000  500001.0000  "
      ]
     },
     "execution_count": 5,
     "metadata": {},
     "output_type": "execute_result"
    }
   ],
   "source": [
    "housing.describe().transpose()"
   ]
  },
  {
   "cell_type": "code",
   "execution_count": 6,
   "metadata": {
    "scrolled": true
   },
   "outputs": [],
   "source": [
    "x_data = housing.drop(['medianHouseValue'],axis=1)"
   ]
  },
  {
   "cell_type": "code",
   "execution_count": 7,
   "metadata": {},
   "outputs": [],
   "source": [
    "y_val = housing['medianHouseValue']"
   ]
  },
  {
   "cell_type": "code",
   "execution_count": 8,
   "metadata": {},
   "outputs": [],
   "source": [
    "from sklearn.model_selection import train_test_split"
   ]
  },
  {
   "cell_type": "code",
   "execution_count": 9,
   "metadata": {},
   "outputs": [],
   "source": [
    "X_train, X_test, y_train, y_test = train_test_split(x_data,y_val,test_size=0.3,random_state=101)"
   ]
  },
  {
   "cell_type": "markdown",
   "metadata": {},
   "source": [
    "### Scale the Feature Data\n",
    "\n",
    "** Use sklearn preprocessing to create a MinMaxScaler for the feature data. Fit this scaler only to the training data. Then use it to transform X_test and X_train. Then use the scaled X_test and X_train along with pd.Dataframe to re-create two dataframes of scaled data.**"
   ]
  },
  {
   "cell_type": "code",
   "execution_count": 10,
   "metadata": {},
   "outputs": [],
   "source": [
    "from sklearn.preprocessing import MinMaxScaler"
   ]
  },
  {
   "cell_type": "code",
   "execution_count": 11,
   "metadata": {},
   "outputs": [],
   "source": [
    "scaler = MinMaxScaler()"
   ]
  },
  {
   "cell_type": "code",
   "execution_count": 12,
   "metadata": {},
   "outputs": [
    {
     "data": {
      "text/plain": [
       "MinMaxScaler(copy=True, feature_range=(0, 1))"
      ]
     },
     "execution_count": 12,
     "metadata": {},
     "output_type": "execute_result"
    }
   ],
   "source": [
    "scaler.fit(X_train)"
   ]
  },
  {
   "cell_type": "code",
   "execution_count": 13,
   "metadata": {},
   "outputs": [],
   "source": [
    "X_train = pd.DataFrame(data=scaler.transform(X_train),columns = X_train.columns,index=X_train.index)"
   ]
  },
  {
   "cell_type": "code",
   "execution_count": 14,
   "metadata": {},
   "outputs": [],
   "source": [
    "X_test = pd.DataFrame(data=scaler.transform(X_test),columns = X_test.columns,index=X_test.index)"
   ]
  },
  {
   "cell_type": "markdown",
   "metadata": {},
   "source": [
    "### Create Feature Columns\n",
    "\n",
    "** Create the necessary tf.feature_column objects for the estimator. They should all be trated as continuous numeric_columns. **"
   ]
  },
  {
   "cell_type": "code",
   "execution_count": 15,
   "metadata": {},
   "outputs": [
    {
     "data": {
      "text/plain": [
       "Index(['housingMedianAge', 'totalRooms', 'totalBedrooms', 'population',\n",
       "       'households', 'medianIncome', 'medianHouseValue'],\n",
       "      dtype='object')"
      ]
     },
     "execution_count": 15,
     "metadata": {},
     "output_type": "execute_result"
    }
   ],
   "source": [
    "housing.columns"
   ]
  },
  {
   "cell_type": "code",
   "execution_count": 16,
   "metadata": {},
   "outputs": [],
   "source": [
    "import tensorflow as tf"
   ]
  },
  {
   "cell_type": "code",
   "execution_count": 17,
   "metadata": {},
   "outputs": [],
   "source": [
    "age = tf.feature_column.numeric_column('housingMedianAge')\n",
    "rooms = tf.feature_column.numeric_column('totalRooms')\n",
    "bedrooms = tf.feature_column.numeric_column('totalBedrooms')\n",
    "pop = tf.feature_column.numeric_column('population')\n",
    "households = tf.feature_column.numeric_column('households')\n",
    "income = tf.feature_column.numeric_column('medianIncome')"
   ]
  },
  {
   "cell_type": "code",
   "execution_count": 18,
   "metadata": {},
   "outputs": [],
   "source": [
    "feat_cols = [ age,rooms,bedrooms,pop,households,income]"
   ]
  },
  {
   "cell_type": "markdown",
   "metadata": {},
   "source": [
    "** Create the input function for the estimator object. (play around with batch_size and num_epochs)**"
   ]
  },
  {
   "cell_type": "code",
   "execution_count": 36,
   "metadata": {},
   "outputs": [],
   "source": [
    "input_func = tf.estimator.inputs.pandas_input_fn(x=X_train,y=y_train ,batch_size=10,num_epochs=1000,\n",
    "                                            shuffle=True)"
   ]
  },
  {
   "cell_type": "markdown",
   "metadata": {},
   "source": [
    "** Create the estimator model. Use a DNNRegressor. Play around with the hidden units! **"
   ]
  },
  {
   "cell_type": "code",
   "execution_count": 37,
   "metadata": {},
   "outputs": [
    {
     "name": "stdout",
     "output_type": "stream",
     "text": [
      "INFO:tensorflow:Using default config.\n",
      "WARNING:tensorflow:Using temporary folder as model directory: /var/folders/qy/8gpp2k295j980h0fyf_7b4h80000gp/T/tmpwqt83mnj\n",
      "INFO:tensorflow:Using config: {'_model_dir': '/var/folders/qy/8gpp2k295j980h0fyf_7b4h80000gp/T/tmpwqt83mnj', '_tf_random_seed': 1, '_save_summary_steps': 100, '_save_checkpoints_secs': 600, '_save_checkpoints_steps': None, '_session_config': None, '_keep_checkpoint_max': 5, '_keep_checkpoint_every_n_hours': 10000, '_log_step_count_steps': 100}\n"
     ]
    }
   ],
   "source": [
    "model = tf.estimator.DNNRegressor(hidden_units=[6,6,6],feature_columns=feat_cols)"
   ]
  },
  {
   "cell_type": "markdown",
   "metadata": {},
   "source": [
    "##### ** Train the model for ~1,000 steps. (Later come back to this and train it for more and check for improvement) **"
   ]
  },
  {
   "cell_type": "code",
   "execution_count": 38,
   "metadata": {},
   "outputs": [
    {
     "name": "stdout",
     "output_type": "stream",
     "text": [
      "INFO:tensorflow:Create CheckpointSaverHook.\n",
      "INFO:tensorflow:Saving checkpoints for 1 into /var/folders/qy/8gpp2k295j980h0fyf_7b4h80000gp/T/tmpwqt83mnj/model.ckpt.\n",
      "INFO:tensorflow:loss = 348320370000.0, step = 1\n",
      "INFO:tensorflow:global_step/sec: 344.035\n",
      "INFO:tensorflow:loss = 1019054000000.0, step = 101 (0.301 sec)\n",
      "INFO:tensorflow:global_step/sec: 339.443\n",
      "INFO:tensorflow:loss = 614059200000.0, step = 201 (0.285 sec)\n",
      "INFO:tensorflow:global_step/sec: 394.357\n",
      "INFO:tensorflow:loss = 270141440000.0, step = 301 (0.254 sec)\n",
      "INFO:tensorflow:global_step/sec: 410.343\n",
      "INFO:tensorflow:loss = 291402380000.0, step = 401 (0.244 sec)\n",
      "INFO:tensorflow:global_step/sec: 388.256\n",
      "INFO:tensorflow:loss = 293964120000.0, step = 501 (0.259 sec)\n",
      "INFO:tensorflow:global_step/sec: 376.485\n",
      "INFO:tensorflow:loss = 566631660000.0, step = 601 (0.264 sec)\n",
      "INFO:tensorflow:global_step/sec: 331.984\n",
      "INFO:tensorflow:loss = 238454200000.0, step = 701 (0.301 sec)\n",
      "INFO:tensorflow:global_step/sec: 411.526\n",
      "INFO:tensorflow:loss = 309589180000.0, step = 801 (0.243 sec)\n",
      "INFO:tensorflow:global_step/sec: 300.576\n",
      "INFO:tensorflow:loss = 144455240000.0, step = 901 (0.337 sec)\n",
      "INFO:tensorflow:global_step/sec: 477.464\n",
      "INFO:tensorflow:loss = 259441700000.0, step = 1001 (0.212 sec)\n",
      "INFO:tensorflow:global_step/sec: 287.097\n",
      "INFO:tensorflow:loss = 85071946000.0, step = 1101 (0.350 sec)\n",
      "INFO:tensorflow:global_step/sec: 353.634\n",
      "INFO:tensorflow:loss = 340049850000.0, step = 1201 (0.278 sec)\n",
      "INFO:tensorflow:global_step/sec: 369.748\n",
      "INFO:tensorflow:loss = 83644450000.0, step = 1301 (0.274 sec)\n",
      "INFO:tensorflow:global_step/sec: 459.704\n",
      "INFO:tensorflow:loss = 177299000000.0, step = 1401 (0.214 sec)\n",
      "INFO:tensorflow:global_step/sec: 429.188\n",
      "INFO:tensorflow:loss = 53255913000.0, step = 1501 (0.235 sec)\n",
      "INFO:tensorflow:global_step/sec: 374.057\n",
      "INFO:tensorflow:loss = 95469530000.0, step = 1601 (0.267 sec)\n",
      "INFO:tensorflow:global_step/sec: 308.675\n",
      "INFO:tensorflow:loss = 89407590000.0, step = 1701 (0.324 sec)\n",
      "INFO:tensorflow:global_step/sec: 396.877\n",
      "INFO:tensorflow:loss = 32060918000.0, step = 1801 (0.250 sec)\n",
      "INFO:tensorflow:global_step/sec: 335.181\n",
      "INFO:tensorflow:loss = 40571750000.0, step = 1901 (0.300 sec)\n",
      "INFO:tensorflow:global_step/sec: 418.545\n",
      "INFO:tensorflow:loss = 98473165000.0, step = 2001 (0.235 sec)\n",
      "INFO:tensorflow:global_step/sec: 470.681\n",
      "INFO:tensorflow:loss = 160039450000.0, step = 2101 (0.217 sec)\n",
      "INFO:tensorflow:global_step/sec: 440.064\n",
      "INFO:tensorflow:loss = 126427760000.0, step = 2201 (0.228 sec)\n",
      "INFO:tensorflow:global_step/sec: 393.823\n",
      "INFO:tensorflow:loss = 144096430000.0, step = 2301 (0.253 sec)\n",
      "INFO:tensorflow:global_step/sec: 300.553\n",
      "INFO:tensorflow:loss = 80288610000.0, step = 2401 (0.332 sec)\n",
      "INFO:tensorflow:global_step/sec: 367.824\n",
      "INFO:tensorflow:loss = 88213406000.0, step = 2501 (0.272 sec)\n",
      "INFO:tensorflow:global_step/sec: 375.598\n",
      "INFO:tensorflow:loss = 69209890000.0, step = 2601 (0.263 sec)\n",
      "INFO:tensorflow:global_step/sec: 482.908\n",
      "INFO:tensorflow:loss = 134633700000.0, step = 2701 (0.207 sec)\n",
      "INFO:tensorflow:global_step/sec: 474.746\n",
      "INFO:tensorflow:loss = 53878784000.0, step = 2801 (0.214 sec)\n",
      "INFO:tensorflow:global_step/sec: 408.378\n",
      "INFO:tensorflow:loss = 44904907000.0, step = 2901 (0.246 sec)\n",
      "INFO:tensorflow:global_step/sec: 416.63\n",
      "INFO:tensorflow:loss = 152589480000.0, step = 3001 (0.239 sec)\n",
      "INFO:tensorflow:global_step/sec: 465.001\n",
      "INFO:tensorflow:loss = 59332580000.0, step = 3101 (0.212 sec)\n",
      "INFO:tensorflow:global_step/sec: 387.275\n",
      "INFO:tensorflow:loss = 103252610000.0, step = 3201 (0.262 sec)\n",
      "INFO:tensorflow:global_step/sec: 462.927\n",
      "INFO:tensorflow:loss = 84720430000.0, step = 3301 (0.211 sec)\n",
      "INFO:tensorflow:global_step/sec: 379.328\n",
      "INFO:tensorflow:loss = 70311035000.0, step = 3401 (0.264 sec)\n",
      "INFO:tensorflow:global_step/sec: 408.617\n",
      "INFO:tensorflow:loss = 145859920000.0, step = 3501 (0.248 sec)\n",
      "INFO:tensorflow:global_step/sec: 383.549\n",
      "INFO:tensorflow:loss = 215925720000.0, step = 3601 (0.263 sec)\n",
      "INFO:tensorflow:global_step/sec: 407.41\n",
      "INFO:tensorflow:loss = 163137200000.0, step = 3701 (0.247 sec)\n",
      "INFO:tensorflow:global_step/sec: 379.558\n",
      "INFO:tensorflow:loss = 70605340000.0, step = 3801 (0.256 sec)\n",
      "INFO:tensorflow:global_step/sec: 457.759\n",
      "INFO:tensorflow:loss = 103089750000.0, step = 3901 (0.219 sec)\n",
      "INFO:tensorflow:global_step/sec: 467.635\n",
      "INFO:tensorflow:loss = 98496320000.0, step = 4001 (0.216 sec)\n",
      "INFO:tensorflow:global_step/sec: 377.953\n",
      "INFO:tensorflow:loss = 70737460000.0, step = 4101 (0.263 sec)\n",
      "INFO:tensorflow:global_step/sec: 439.914\n",
      "INFO:tensorflow:loss = 79026340000.0, step = 4201 (0.225 sec)\n",
      "INFO:tensorflow:global_step/sec: 385.513\n",
      "INFO:tensorflow:loss = 61868913000.0, step = 4301 (0.262 sec)\n",
      "INFO:tensorflow:global_step/sec: 410.932\n",
      "INFO:tensorflow:loss = 57138730000.0, step = 4401 (0.245 sec)\n",
      "INFO:tensorflow:global_step/sec: 358.618\n",
      "INFO:tensorflow:loss = 158544640000.0, step = 4501 (0.275 sec)\n",
      "INFO:tensorflow:global_step/sec: 425.956\n",
      "INFO:tensorflow:loss = 98926380000.0, step = 4601 (0.242 sec)\n",
      "INFO:tensorflow:global_step/sec: 222.965\n",
      "INFO:tensorflow:loss = 85905780000.0, step = 4701 (0.444 sec)\n",
      "INFO:tensorflow:global_step/sec: 214.413\n",
      "INFO:tensorflow:loss = 109294850000.0, step = 4801 (0.464 sec)\n",
      "INFO:tensorflow:global_step/sec: 226.509\n",
      "INFO:tensorflow:loss = 125659234000.0, step = 4901 (0.448 sec)\n",
      "INFO:tensorflow:global_step/sec: 211.051\n",
      "INFO:tensorflow:loss = 48393420000.0, step = 5001 (0.466 sec)\n",
      "INFO:tensorflow:global_step/sec: 238.126\n",
      "INFO:tensorflow:loss = 77031460000.0, step = 5101 (0.425 sec)\n",
      "INFO:tensorflow:global_step/sec: 204.959\n",
      "INFO:tensorflow:loss = 76614090000.0, step = 5201 (0.481 sec)\n",
      "INFO:tensorflow:global_step/sec: 205.081\n",
      "INFO:tensorflow:loss = 108657030000.0, step = 5301 (0.490 sec)\n",
      "INFO:tensorflow:global_step/sec: 174.12\n",
      "INFO:tensorflow:loss = 52241543000.0, step = 5401 (0.580 sec)\n",
      "INFO:tensorflow:global_step/sec: 140.765\n",
      "INFO:tensorflow:loss = 136269320000.0, step = 5501 (0.712 sec)\n",
      "INFO:tensorflow:global_step/sec: 239.573\n",
      "INFO:tensorflow:loss = 66500993000.0, step = 5601 (0.412 sec)\n",
      "INFO:tensorflow:global_step/sec: 333.24\n",
      "INFO:tensorflow:loss = 168761100000.0, step = 5701 (0.302 sec)\n",
      "INFO:tensorflow:global_step/sec: 339.13\n",
      "INFO:tensorflow:loss = 121266730000.0, step = 5801 (0.290 sec)\n",
      "INFO:tensorflow:global_step/sec: 368.072\n",
      "INFO:tensorflow:loss = 77790080000.0, step = 5901 (0.276 sec)\n",
      "INFO:tensorflow:global_step/sec: 181.409\n",
      "INFO:tensorflow:loss = 167701640000.0, step = 6001 (0.546 sec)\n",
      "INFO:tensorflow:global_step/sec: 397.474\n",
      "INFO:tensorflow:loss = 130432060000.0, step = 6101 (0.253 sec)\n",
      "INFO:tensorflow:global_step/sec: 278.444\n",
      "INFO:tensorflow:loss = 90218500000.0, step = 6201 (0.359 sec)\n",
      "INFO:tensorflow:global_step/sec: 410.574\n",
      "INFO:tensorflow:loss = 73330024000.0, step = 6301 (0.245 sec)\n",
      "INFO:tensorflow:global_step/sec: 279.433\n",
      "INFO:tensorflow:loss = 16740221000.0, step = 6401 (0.359 sec)\n",
      "INFO:tensorflow:global_step/sec: 355.515\n",
      "INFO:tensorflow:loss = 68746250000.0, step = 6501 (0.279 sec)\n",
      "INFO:tensorflow:global_step/sec: 266.246\n",
      "INFO:tensorflow:loss = 117410740000.0, step = 6601 (0.379 sec)\n",
      "INFO:tensorflow:global_step/sec: 440.125\n",
      "INFO:tensorflow:loss = 144850260000.0, step = 6701 (0.227 sec)\n",
      "INFO:tensorflow:global_step/sec: 469.713\n",
      "INFO:tensorflow:loss = 72967470000.0, step = 6801 (0.213 sec)\n",
      "INFO:tensorflow:global_step/sec: 166.186\n",
      "INFO:tensorflow:loss = 108080060000.0, step = 6901 (0.599 sec)\n",
      "INFO:tensorflow:global_step/sec: 233.987\n",
      "INFO:tensorflow:loss = 69890600000.0, step = 7001 (0.433 sec)\n",
      "INFO:tensorflow:global_step/sec: 340.38\n",
      "INFO:tensorflow:loss = 78461805000.0, step = 7101 (0.290 sec)\n",
      "INFO:tensorflow:global_step/sec: 393.078\n",
      "INFO:tensorflow:loss = 144708300000.0, step = 7201 (0.254 sec)\n",
      "INFO:tensorflow:global_step/sec: 457.43\n",
      "INFO:tensorflow:loss = 66477625000.0, step = 7301 (0.218 sec)\n",
      "INFO:tensorflow:global_step/sec: 235.576\n",
      "INFO:tensorflow:loss = 56291340000.0, step = 7401 (0.423 sec)\n",
      "INFO:tensorflow:global_step/sec: 281.029\n",
      "INFO:tensorflow:loss = 139282320000.0, step = 7501 (0.356 sec)\n",
      "INFO:tensorflow:global_step/sec: 285.782\n",
      "INFO:tensorflow:loss = 41845334000.0, step = 7601 (0.348 sec)\n",
      "INFO:tensorflow:global_step/sec: 301.919\n",
      "INFO:tensorflow:loss = 134546060000.0, step = 7701 (0.336 sec)\n",
      "INFO:tensorflow:global_step/sec: 229.996\n"
     ]
    },
    {
     "name": "stdout",
     "output_type": "stream",
     "text": [
      "INFO:tensorflow:loss = 84022350000.0, step = 7801 (0.436 sec)\n",
      "INFO:tensorflow:global_step/sec: 374.404\n",
      "INFO:tensorflow:loss = 56823520000.0, step = 7901 (0.268 sec)\n",
      "INFO:tensorflow:global_step/sec: 299.043\n",
      "INFO:tensorflow:loss = 62902100000.0, step = 8001 (0.329 sec)\n",
      "INFO:tensorflow:global_step/sec: 288.38\n",
      "INFO:tensorflow:loss = 123527640000.0, step = 8101 (0.345 sec)\n",
      "INFO:tensorflow:global_step/sec: 231.975\n",
      "INFO:tensorflow:loss = 42802684000.0, step = 8201 (0.441 sec)\n",
      "INFO:tensorflow:global_step/sec: 322.74\n",
      "INFO:tensorflow:loss = 64238174000.0, step = 8301 (0.300 sec)\n",
      "INFO:tensorflow:global_step/sec: 267.935\n",
      "INFO:tensorflow:loss = 32411544000.0, step = 8401 (0.382 sec)\n",
      "INFO:tensorflow:global_step/sec: 278.428\n",
      "INFO:tensorflow:loss = 76177860000.0, step = 8501 (0.351 sec)\n",
      "INFO:tensorflow:global_step/sec: 289.579\n",
      "INFO:tensorflow:loss = 183415980000.0, step = 8601 (0.349 sec)\n",
      "INFO:tensorflow:global_step/sec: 364.211\n",
      "INFO:tensorflow:loss = 86133195000.0, step = 8701 (0.276 sec)\n",
      "INFO:tensorflow:global_step/sec: 364.158\n",
      "INFO:tensorflow:loss = 108339315000.0, step = 8801 (0.273 sec)\n",
      "INFO:tensorflow:global_step/sec: 326.674\n",
      "INFO:tensorflow:loss = 156335200000.0, step = 8901 (0.306 sec)\n",
      "INFO:tensorflow:global_step/sec: 247.103\n",
      "INFO:tensorflow:loss = 102157910000.0, step = 9001 (0.406 sec)\n",
      "INFO:tensorflow:global_step/sec: 266.051\n",
      "INFO:tensorflow:loss = 100755850000.0, step = 9101 (0.381 sec)\n",
      "INFO:tensorflow:global_step/sec: 205.371\n",
      "INFO:tensorflow:loss = 238570390000.0, step = 9201 (0.481 sec)\n",
      "INFO:tensorflow:global_step/sec: 185.639\n",
      "INFO:tensorflow:loss = 45408690000.0, step = 9301 (0.535 sec)\n",
      "INFO:tensorflow:global_step/sec: 184.032\n",
      "INFO:tensorflow:loss = 87969595000.0, step = 9401 (0.546 sec)\n",
      "INFO:tensorflow:global_step/sec: 228.082\n",
      "INFO:tensorflow:loss = 125534010000.0, step = 9501 (0.441 sec)\n",
      "INFO:tensorflow:global_step/sec: 231.986\n",
      "INFO:tensorflow:loss = 69351645000.0, step = 9601 (0.429 sec)\n",
      "INFO:tensorflow:global_step/sec: 372.12\n",
      "INFO:tensorflow:loss = 194239330000.0, step = 9701 (0.272 sec)\n",
      "INFO:tensorflow:global_step/sec: 185.607\n",
      "INFO:tensorflow:loss = 122254950000.0, step = 9801 (0.534 sec)\n",
      "INFO:tensorflow:global_step/sec: 228.921\n",
      "INFO:tensorflow:loss = 171631690000.0, step = 9901 (0.436 sec)\n",
      "INFO:tensorflow:Saving checkpoints for 10000 into /var/folders/qy/8gpp2k295j980h0fyf_7b4h80000gp/T/tmpwqt83mnj/model.ckpt.\n",
      "INFO:tensorflow:Loss for final step: 69602460000.0.\n"
     ]
    },
    {
     "data": {
      "text/plain": [
       "<tensorflow.python.estimator.canned.dnn.DNNRegressor at 0x1a1f8000b8>"
      ]
     },
     "execution_count": 38,
     "metadata": {},
     "output_type": "execute_result"
    }
   ],
   "source": [
    "model.train(input_fn=input_func,steps=10000)"
   ]
  },
  {
   "cell_type": "markdown",
   "metadata": {},
   "source": [
    "** Create a prediction input function and then use the .predict method off your estimator model to create a list or predictions on your test data. **"
   ]
  },
  {
   "cell_type": "code",
   "execution_count": 39,
   "metadata": {},
   "outputs": [],
   "source": [
    "predict_input_func = tf.estimator.inputs.pandas_input_fn(\n",
    "      x=X_test,\n",
    "      batch_size=10,\n",
    "      num_epochs=1,\n",
    "      shuffle=False)"
   ]
  },
  {
   "cell_type": "code",
   "execution_count": 40,
   "metadata": {},
   "outputs": [],
   "source": [
    "pred_gen = model.predict(predict_input_func)"
   ]
  },
  {
   "cell_type": "code",
   "execution_count": 41,
   "metadata": {},
   "outputs": [
    {
     "name": "stdout",
     "output_type": "stream",
     "text": [
      "INFO:tensorflow:Restoring parameters from /var/folders/qy/8gpp2k295j980h0fyf_7b4h80000gp/T/tmpwqt83mnj/model.ckpt-10000\n"
     ]
    }
   ],
   "source": [
    "predictions = list(pred_gen)"
   ]
  },
  {
   "cell_type": "markdown",
   "metadata": {},
   "source": [
    "** Calculate the RMSE. Do this manually or use [sklearn.metrics](http://scikit-learn.org/stable/modules/generated/sklearn.metrics.mean_squared_error.html) **"
   ]
  },
  {
   "cell_type": "code",
   "execution_count": 42,
   "metadata": {},
   "outputs": [],
   "source": [
    "final_preds = []\n",
    "for pred in predictions:\n",
    "    final_preds.append(pred['predictions'])"
   ]
  },
  {
   "cell_type": "code",
   "execution_count": 43,
   "metadata": {},
   "outputs": [],
   "source": [
    "from sklearn.metrics import mean_squared_error"
   ]
  },
  {
   "cell_type": "code",
   "execution_count": 44,
   "metadata": {},
   "outputs": [
    {
     "data": {
      "text/plain": [
       "102558.20074883055"
      ]
     },
     "execution_count": 44,
     "metadata": {},
     "output_type": "execute_result"
    }
   ],
   "source": [
    "mean_squared_error(y_test,final_preds)**0.5"
   ]
  },
  {
   "cell_type": "markdown",
   "metadata": {},
   "source": [
    "# Great Job!"
   ]
  }
 ],
 "metadata": {
  "kernelspec": {
   "display_name": "Python 3",
   "language": "python",
   "name": "python3"
  },
  "language_info": {
   "codemirror_mode": {
    "name": "ipython",
    "version": 3
   },
   "file_extension": ".py",
   "mimetype": "text/x-python",
   "name": "python",
   "nbconvert_exporter": "python",
   "pygments_lexer": "ipython3",
   "version": "3.6.8"
  }
 },
 "nbformat": 4,
 "nbformat_minor": 2
}
